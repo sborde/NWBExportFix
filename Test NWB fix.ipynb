{
 "cells": [
  {
   "cell_type": "markdown",
   "metadata": {},
   "source": [
    "# Test NWB fix"
   ]
  },
  {
   "cell_type": "markdown",
   "metadata": {},
   "source": [
    "## Imports"
   ]
  },
  {
   "cell_type": "code",
   "execution_count": 1,
   "metadata": {},
   "outputs": [],
   "source": [
    "from helper_functions import load_file, save_file, clone_with_general_data\n",
    "from channel_create_functions import acquisition_copy_functions, stimulus_copy_functions, create_mock_electrode"
   ]
  },
  {
   "cell_type": "markdown",
   "metadata": {},
   "source": [
    "## Parameters"
   ]
  },
  {
   "cell_type": "code",
   "execution_count": 2,
   "metadata": {},
   "outputs": [],
   "source": [
    "base_dir = 'E:\\spyder_projects\\\\'\n",
    "\n",
    "input_filename = '1806203fs-3.nwb'\n",
    "donor_filename = '1805102mg-2.nwb'\n",
    "output_filename = 'output_test_file.nwb'\n",
    "\n",
    "donor_series_idx = [1, 2, 3, 26, 27]\n",
    "replace_series_idx = [1, 2, 3, 40, 53]"
   ]
  },
  {
   "cell_type": "markdown",
   "metadata": {},
   "source": [
    "Load the original input and the donor NWB file."
   ]
  },
  {
   "cell_type": "code",
   "execution_count": 3,
   "metadata": {},
   "outputs": [],
   "source": [
    "input_file, input_series = load_file(base_dir + input_filename)\n",
    "donor_file, donor_series = load_file(base_dir + donor_filename)"
   ]
  },
  {
   "cell_type": "markdown",
   "metadata": {},
   "source": [
    "Create an empty NWB file with the general data obtained from the original file."
   ]
  },
  {
   "cell_type": "code",
   "execution_count": 4,
   "metadata": {},
   "outputs": [],
   "source": [
    "nwbfile = clone_with_general_data(input_file)\n",
    "electrode = create_mock_electrode(nwbfile)"
   ]
  },
  {
   "cell_type": "markdown",
   "metadata": {},
   "source": [
    "Loop through the series in the input file and process them.\n",
    "\n"
   ]
  },
  {
   "cell_type": "code",
   "execution_count": 5,
   "metadata": {},
   "outputs": [
    {
     "name": "stdout",
     "output_type": "stream",
     "text": [
      "Series #0 index_000 is corrupted\n",
      "Series #1 index_001 is corrupted\n",
      "Series #2 index_002 is corrupted\n",
      "Series #3 index_003 is correct, just copy\n",
      "Series #4 index_004 is correct, just copy\n",
      "Series #5 index_005 is correct, just copy\n",
      "Series #6 index_006 is correct, just copy\n",
      "Series #7 index_007 is correct, just copy\n",
      "Series #8 index_008 is correct, just copy\n",
      "Series #9 index_009 is correct, just copy\n",
      "Series #10 index_010 is correct, just copy\n",
      "Series #11 index_011 is correct, just copy\n",
      "Series #12 index_012 is correct, just copy\n",
      "Series #13 index_013 is correct, just copy\n",
      "Series #14 index_014 is correct, just copy\n",
      "Series #15 index_015 is correct, just copy\n",
      "Series #16 index_016 is correct, just copy\n",
      "Series #17 index_017 is correct, just copy\n",
      "Series #18 index_018 is correct, just copy\n",
      "Series #19 index_019 is correct, just copy\n",
      "Series #20 index_020 is correct, just copy\n",
      "Series #21 index_021 is correct, just copy\n",
      "Series #22 index_022 is correct, just copy\n",
      "Series #23 index_023 is correct, just copy\n",
      "Series #24 index_024 is correct, just copy\n",
      "Series #25 index_025 is correct, just copy\n",
      "Series #26 index_026 is correct, just copy\n",
      "Series #27 index_027 is correct, just copy\n",
      "Series #28 index_028 is correct, just copy\n",
      "Series #29 index_029 is correct, just copy\n",
      "Series #30 index_030 is correct, just copy\n",
      "Series #31 index_031 is correct, just copy\n",
      "Series #32 index_032 is correct, just copy\n",
      "Series #33 index_033 is correct, just copy\n",
      "Series #34 index_034 is correct, just copy\n",
      "Series #35 index_035 is correct, just copy\n",
      "Series #36 index_036 is correct, just copy\n",
      "Series #37 index_037 is correct, just copy\n",
      "Series #38 index_038 is correct, just copy\n",
      "Series #39 index_039 is corrupted\n",
      "Series #40 index_040 is correct, just copy\n",
      "Series #41 index_041 is correct, just copy\n",
      "Series #42 index_042 is correct, just copy\n",
      "Series #43 index_043 is correct, just copy\n",
      "Series #44 index_044 is correct, just copy\n",
      "Series #45 index_045 is correct, just copy\n",
      "Series #46 index_046 is correct, just copy\n",
      "Series #47 index_047 is correct, just copy\n",
      "Series #48 index_048 is correct, just copy\n",
      "Series #49 index_049 is correct, just copy\n",
      "Series #50 index_050 is correct, just copy\n",
      "Series #51 index_051 is correct, just copy\n",
      "Series #52 index_052 is corrupted\n"
     ]
    }
   ],
   "source": [
    "correct_stim_idx, donor_stim_idx = 0, 0\n",
    "for series_idx, series_name in enumerate(input_series):\n",
    "    \n",
    "    acquisition_data = input_file.acquisition.get(series_name)\n",
    "    acquisition_type = acquisition_data.neurodata_type\n",
    "    \n",
    "    if (series_idx+1) in replace_series_idx:\n",
    "        print(f'Series #{series_idx} {series_name} is corrupted')\n",
    "        \n",
    "        donor_stim_series_name = donor_series[donor_series_idx[donor_stim_idx] - 1]\n",
    "        stimulus_data = donor_file.stimulus.get(donor_stim_series_name)\n",
    "        donor_stim_idx += 1\n",
    "        \n",
    "    else:\n",
    "        print(f'Series #{series_idx} {series_name} is correct, just copy')\n",
    "        \n",
    "        original_stim_series_name = input_series[correct_stim_idx];\n",
    "        stimulus_data = input_file.stimulus.get(original_stim_series_name)\n",
    "        correct_stim_idx += 1\n",
    "        \n",
    "    output_acquisition = acquisition_copy_functions[acquisition_type](nwbfile, acquisition_data, series_name, electrode)\n",
    "    output_stimulus = stimulus_copy_functions[acquisition_type](nwbfile, stimulus_data, series_name, electrode)\n",
    "    \n",
    "    nwbfile.add_acquisition(output_acquisition)\n",
    "    nwbfile.add_stimulus(output_stimulus)"
   ]
  },
  {
   "cell_type": "markdown",
   "metadata": {},
   "source": [
    "Save the cloned file."
   ]
  },
  {
   "cell_type": "code",
   "execution_count": 6,
   "metadata": {},
   "outputs": [],
   "source": [
    "save_file(base_dir + output_filename, nwbfile)"
   ]
  }
 ],
 "metadata": {
  "kernelspec": {
   "display_name": "Python 3",
   "language": "python",
   "name": "python3"
  },
  "language_info": {
   "codemirror_mode": {
    "name": "ipython",
    "version": 3
   },
   "file_extension": ".py",
   "mimetype": "text/x-python",
   "name": "python",
   "nbconvert_exporter": "python",
   "pygments_lexer": "ipython3",
   "version": "3.7.6"
  }
 },
 "nbformat": 4,
 "nbformat_minor": 4
}
