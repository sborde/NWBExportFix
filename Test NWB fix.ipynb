{
 "cells": [
  {
   "cell_type": "markdown",
   "metadata": {},
   "source": [
    "# Test NWB fix"
   ]
  },
  {
   "cell_type": "markdown",
   "metadata": {},
   "source": [
    "## Imports"
   ]
  },
  {
   "cell_type": "code",
   "execution_count": 2,
   "metadata": {},
   "outputs": [],
   "source": [
    "from helper_functions import load_file, clone_with_general_data\n",
    "from channel_create_functions import channel_copy_functions, create_mock_electrode"
   ]
  },
  {
   "cell_type": "markdown",
   "metadata": {},
   "source": [
    "## Parameters"
   ]
  },
  {
   "cell_type": "code",
   "execution_count": 3,
   "metadata": {},
   "outputs": [],
   "source": [
    "base_dir = 'E:\\spyder_projects\\\\'\n",
    "\n",
    "input_filename = '1806203fs-3.nwb'\n",
    "donor_filename = '1805102mg-2.nwb'\n",
    "output_filename = 'output_test_file.nwb'\n",
    "\n",
    "donor_series_idx = [1, 2, 3, 26, 27]\n",
    "replace_series_idx = [1, 2, 3, 40, 53]"
   ]
  },
  {
   "cell_type": "markdown",
   "metadata": {},
   "source": [
    "Load the original input and the donor NWB file."
   ]
  },
  {
   "cell_type": "code",
   "execution_count": 4,
   "metadata": {},
   "outputs": [],
   "source": [
    "input_file, input_series = load_file(base_dir + input_filename)\n",
    "donor_file, donor_series = load_file(base_dir + donor_filename)"
   ]
  },
  {
   "cell_type": "markdown",
   "metadata": {},
   "source": [
    "Create an empty NWB file with the general data obtained from the original file."
   ]
  },
  {
   "cell_type": "code",
   "execution_count": 5,
   "metadata": {},
   "outputs": [],
   "source": [
    "nwbfile = clone_with_general_data(input_file)"
   ]
  },
  {
   "cell_type": "markdown",
   "metadata": {},
   "source": [
    "Loop through the series in the input file and process them.\n",
    "\n"
   ]
  },
  {
   "cell_type": "code",
   "execution_count": null,
   "metadata": {},
   "outputs": [],
   "source": [
    "for series_idx, series_name in enumerate(input_series):\n",
    "    \n",
    "    acquisition_data = input_file.acquisition.get(series_name)    \n",
    "    acquisition_type = acquisition_data.neurodata_type\n",
    "    \n",
    "    if series_idx in replace_series_idx: ## replace with the donor series\n",
    "        print(f'Series #{series_idx} {series_name} is corrupted')\n",
    "        # TODO: extract corresponding data from the donor and save to acquisition data\n",
    "        \n",
    "        # StimData = Donor_nwbfile.stimulus.get('index__00')\n",
    "    else:\n",
    "        print(f'Series #{series_idx} {series_name} is correct, just copy')\n",
    "        # TODO: extract corresponding data from the original file and save to acquisition data\n",
    "        \n",
    "    output_acquisition = channel_copy_functions[acquisition_type](nwbfile, acquisition_data, series_name, electrode)\n",
    "    nwbfile.add_acquisition(output_Acquisition)"
   ]
  }
 ],
 "metadata": {
  "kernelspec": {
   "display_name": "Python 3",
   "language": "python",
   "name": "python3"
  },
  "language_info": {
   "codemirror_mode": {
    "name": "ipython",
    "version": 3
   },
   "file_extension": ".py",
   "mimetype": "text/x-python",
   "name": "python",
   "nbconvert_exporter": "python",
   "pygments_lexer": "ipython3",
   "version": "3.7.6"
  }
 },
 "nbformat": 4,
 "nbformat_minor": 4
}
